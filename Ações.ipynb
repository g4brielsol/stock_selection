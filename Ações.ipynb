{
  "nbformat": 4,
  "nbformat_minor": 0,
  "metadata": {
    "colab": {
      "name": "Ações.ipynb",
      "provenance": [],
      "collapsed_sections": []
    },
    "kernelspec": {
      "name": "python3",
      "display_name": "Python 3"
    }
  },
  "cells": [
    {
      "cell_type": "code",
      "metadata": {
        "id": "shmK8JRuVvHt",
        "colab_type": "code",
        "outputId": "d32cd0c8-5830-442f-b0c9-d3ac0e559a81",
        "colab": {
          "base_uri": "https://localhost:8080/",
          "height": 351
        }
      },
      "source": [
        "!pip install ortools"
      ],
      "execution_count": 1,
      "outputs": [
        {
          "output_type": "stream",
          "text": [
            "Collecting ortools\n",
            "\u001b[?25l  Downloading https://files.pythonhosted.org/packages/1c/d5/c4382df6b6b978971f11287552f5c0acc54ea7bf8ce70a9c77d8a06531b2/ortools-7.6.7691-cp36-cp36m-manylinux1_x86_64.whl (28.9MB)\n",
            "\u001b[K     |████████████████████████████████| 28.9MB 136kB/s \n",
            "\u001b[?25hCollecting protobuf>=3.11.2\n",
            "\u001b[?25l  Downloading https://files.pythonhosted.org/packages/57/02/5432412c162989260fab61fa65e0a490c1872739eb91a659896e4d554b26/protobuf-3.11.3-cp36-cp36m-manylinux1_x86_64.whl (1.3MB)\n",
            "\u001b[K     |████████████████████████████████| 1.3MB 52.2MB/s \n",
            "\u001b[?25hRequirement already satisfied: six>=1.10 in /usr/local/lib/python3.6/dist-packages (from ortools) (1.12.0)\n",
            "Requirement already satisfied: setuptools in /usr/local/lib/python3.6/dist-packages (from protobuf>=3.11.2->ortools) (46.1.3)\n",
            "Installing collected packages: protobuf, ortools\n",
            "  Found existing installation: protobuf 3.10.0\n",
            "    Uninstalling protobuf-3.10.0:\n",
            "      Successfully uninstalled protobuf-3.10.0\n",
            "Successfully installed ortools-7.6.7691 protobuf-3.11.3\n"
          ],
          "name": "stdout"
        },
        {
          "output_type": "display_data",
          "data": {
            "application/vnd.colab-display-data+json": {
              "pip_warning": {
                "packages": [
                  "google"
                ]
              }
            }
          },
          "metadata": {
            "tags": []
          }
        }
      ]
    },
    {
      "cell_type": "code",
      "metadata": {
        "id": "pVJFUnu3Vw-s",
        "colab_type": "code",
        "outputId": "8e6aed27-26f6-44b0-b7b6-0a9ec5ad4757",
        "colab": {
          "base_uri": "https://localhost:8080/",
          "height": 347
        }
      },
      "source": [
        "# Copyright 2010-2018 Google LLC\n",
        "# Licensed under the Apache License, Version 2.0 (the \"License\");\n",
        "# you may not use this file except in compliance with the License.\n",
        "# You may obtain a copy of the License at\n",
        "#\n",
        "#     http://www.apache.org/licenses/LICENSE-2.0\n",
        "#\n",
        "# Unless required by applicable law or agreed to in writing, software\n",
        "# distributed under the License is distributed on an \"AS IS\" BASIS,\n",
        "# WITHOUT WARRANTIES OR CONDITIONS OF ANY KIND, either express or implied.\n",
        "# See the License for the specific language governing permissions and\n",
        "# limitations under the License.\n",
        "\"\"\"Integer programming examples that show how to use the APIs.\"\"\"\n",
        "# [START program]\n",
        "# [START import]\n",
        "from __future__ import print_function\n",
        "from ortools.linear_solver import pywraplp\n",
        "# [END import]\n",
        "\n",
        "\n",
        "def main():\n",
        "    # [START solver]\n",
        "    # Create the mip solver with the CBC backend.\n",
        "    solver = pywraplp.Solver('simple_mip_program',\n",
        "                             pywraplp.Solver.CBC_MIXED_INTEGER_PROGRAMMING)\n",
        "    # [END solver]\n",
        "    print('Problema da Minimização de Produção e Estoque de Chapas')\n",
        "    print()\n",
        "    # [START variables]\n",
        "\n",
        "    # number of stocks\n",
        "    acao_1 = solver.IntVar(0.0, 10000000000, 'acao_1')\n",
        "    acao_2 = solver.IntVar(0.0, 10000000000, 'acao_2')\n",
        "    acao_3 = solver.IntVar(0.0, 10000000000, 'acao_3')\n",
        "    acao_4 = solver.IntVar(0.0, 10000000000, 'acao_4')\n",
        "    acao_5 = solver.IntVar(0.0, 10000000000, 'acao_5')\n",
        "    #acao_6 = solver.IntVar(0.0, 10000000000, 'acao_6') \n",
        "    #acao_7 = solver.IntVar(0.0, 10000000000, 'acao_7')\n",
        "    #acao_8 = solver.IntVar(0.0, 10000000000, 'acao_8')\n",
        "    #acao_9 = solver.IntVar(0.0, 10000000000, 'acao_9')\n",
        "    #acao_10 = solver.IntVar(0.0, 10000000000, 'acao_10')\n",
        "\n",
        "    print('Numero de variaveis =', solver.NumVariables())\n",
        "    # [END variables]\n",
        "\n",
        "    # [START constraints]\n",
        "\n",
        "    # Minimun amount of each estock\n",
        "\n",
        "    solver.Add(acao_1 >= 3)\n",
        "    solver.Add(acao_2 >= 2)\n",
        "    solver.Add(acao_3 >= 12)\n",
        "    solver.Add(acao_4 >= 2)\n",
        "    solver.Add(acao_5 >= 4)\n",
        "    #solver.Add(acao_6 >= )\n",
        "    #solver.Add(acao_7 >= )\n",
        "    #solver.Add(acao_8 >= )\n",
        "    #solver.Add(acao_9 >= )\n",
        "    #solver.Add(acao_10 >= )\n",
        "    \n",
        "    # price of each stock\n",
        "    preco_1 = 19.1\n",
        "    preco_2 = 34.19\n",
        "    preco_3 = 5.54\n",
        "    preco_4 = 31.6\n",
        "    preco_5 = 15.91\n",
        "    #preco_6 = \n",
        "    #preco_7 = \n",
        "    #preco_8 = \n",
        "    #preco_9 = \n",
        "    #preco_10 = \n",
        "    \n",
        "    # Maximun amount of money to spend\n",
        "    solver.Add(preco_1*acao_1 + preco_2*acao_2 + preco_3*acao_3 + preco_4*acao_4 + preco_5*acao_5 <= 429 #+\n",
        "              #preco_6*acao_6 + preco_7*acao_7 + preco_8*acao_8 + preco_9*acao_9 + preco_10*acao_10 <= dinheiro )\n",
        "              )\n",
        "\n",
        "\n",
        "    print('Numero de restricoes =', solver.NumConstraints())\n",
        "    # [END constraints]\n",
        "\n",
        "    # [START objective]\n",
        "    # Maximize number of stocks\n",
        "    solver.Maximize(\n",
        "              preco_1*acao_1 + preco_2*acao_2 + preco_3*acao_3 + preco_4*acao_4 + preco_5*acao_5 #+\n",
        "              #preco_6*acao_6 + preco_7*acao_7 + preco_8*acao_8 + preco_9*acao_9 + preco_10*acao_10 <= dinheiro\n",
        "    )\n",
        "    # [END objective]\n",
        "\n",
        "    # [START solve]\n",
        "    status = solver.Solve()\n",
        "    # [END solve]\n",
        "\n",
        "    # [START print_solution]\n",
        "    if status == pywraplp.Solver.OPTIMAL:\n",
        "\n",
        "        print('Solucao:\\n')\n",
        "        print('Custo total = {} reais'.format(solver.Objective().Value()))\n",
        "        print('Variaveis escolhidas: ')\n",
        "        print('Acao 1 = ', acao_1.solution_value())\n",
        "        print('Acao 2 = ', acao_2.solution_value())\n",
        "        print('Acao 3 = ', acao_3.solution_value())\n",
        "        print('Acao 4 = ', acao_4.solution_value())\n",
        "        print('Acao 5 = ', acao_5.solution_value())\n",
        "       # print('Acao 6 = ', acao_6.solution_value())\n",
        "       # print('Acao 7 = ', acao_7.solution_value())\n",
        "       # print('Acao 8 = ', acao_8.solution_value())\n",
        "       # print('Acao 9 = ', acao_9.solution_value())\n",
        "       # print('Acao 10 = ', acao_10.solution_value())\n",
        "\n",
        "        print()\n",
        "\n",
        "    else:\n",
        "        print('O problema nao possui uma solucao otima.')\n",
        "    # [END print_solution]\n",
        "\n",
        "    # [START advanced]\n",
        "    print('\\nEstatisticas avancadas:')\n",
        "    print('Problema resolvido em  %f millisegundos' % solver.wall_time())\n",
        "    print('Problema resolvido em %d iteracoes' % solver.iterations())\n",
        "    print('Problema resolvido em %d nos de branch-and-bound' % solver.nodes())\n",
        "    # [END advanced]\n",
        "\n",
        "\n",
        "if __name__ == '__main__':\n",
        "    main()\n",
        "# [END program]"
      ],
      "execution_count": 5,
      "outputs": [
        {
          "output_type": "stream",
          "text": [
            "Problema da Minimização de Produção e Estoque de Chapas\n",
            "\n",
            "Numero de variaveis = 5\n",
            "Numero de restricoes = 6\n",
            "Solucao:\n",
            "\n",
            "Custo total = 429.0 reais\n",
            "Variaveis escolhidas: \n",
            "Acao 1 =  4.0\n",
            "Acao 2 =  2.0\n",
            "Acao 3 =  17.0\n",
            "Acao 4 =  4.0\n",
            "Acao 5 =  4.0\n",
            "\n",
            "\n",
            "Estatisticas avancadas:\n",
            "Problema resolvido em  9.000000 millisegundos\n",
            "Problema resolvido em 16 iteracoes\n",
            "Problema resolvido em 4 nos de branch-and-bound\n"
          ],
          "name": "stdout"
        }
      ]
    },
    {
      "cell_type": "code",
      "metadata": {
        "id": "4S2o14GMV1If",
        "colab_type": "code",
        "colab": {}
      },
      "source": [
        ""
      ],
      "execution_count": 0,
      "outputs": []
    }
  ]
}